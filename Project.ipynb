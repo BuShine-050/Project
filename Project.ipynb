{
  "metadata": {
    "kernelspec": {
      "name": "xpython",
      "display_name": "Python 3.13 (XPython)",
      "language": "python"
    },
    "language_info": {
      "file_extension": ".py",
      "mimetype": "text/x-python",
      "name": "python",
      "version": "3.13.1"
    }
  },
  "nbformat_minor": 5,
  "nbformat": 4,
  "cells": [
    {
      "id": "8c681ac7-c710-4607-9044-e0d66eae5de0",
      "cell_type": "code",
      "source": "def f(x):\n    return x**3-5*x+1\n\ndef bisection(a,b,n):\n    i = 1\n    condition = True\n    while condition: //checks whether\n        x = (a+b)/2\n        if f(x)<0:\n            a=x\n        else:\n            b=x\n        print(\"iteration = \",i, \"x = \",x, \"f(x) = \", f(x))\n        if i == n:\n            condition = False\n        else:\n            condition = True\n            i = i+1\n    print(\"Required root is : \",x)\n\na = input(\"First approxmiation root : \")\nb = input(\"Second approximation root : \")\nn = input(\"No. of iteration : \")\na = float(a)\nb = float(b)\nn = int(n)\n\nif f(a)*f(b)>0:\n    print(\"Given approximate values do not bracket the root\")\n    print(\"Try again with different values.\")\nelse:\n    bisection(a,b,n)",
      "metadata": {
        "trusted": true
      },
      "outputs": [],
      "execution_count": null
    }
  ]
}